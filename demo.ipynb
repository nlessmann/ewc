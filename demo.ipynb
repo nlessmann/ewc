{
 "cells": [
  {
   "cell_type": "code",
   "execution_count": 1,
   "metadata": {
    "colab": {},
    "colab_type": "code",
    "id": "qe22sCzx9DWQ",
    "pycharm": {
     "is_executing": false
    }
   },
   "outputs": [],
   "source": [
    "%matplotlib inline\n",
    "\n",
    "import torch\n",
    "import torch.nn as nn\n",
    "\n",
    "from tqdm import tqdm\n",
    "from matplotlib import pyplot as plt\n",
    "from torch.utils.data import Dataset, DataLoader\n",
    "from torchvision import datasets, transforms\n",
    "\n",
    "from elastic_weight_consolidation import ElasticWeightConsolidation"
   ]
  },
  {
   "cell_type": "code",
   "execution_count": 2,
   "metadata": {
    "colab": {},
    "colab_type": "code",
    "id": "Y_LMkmXG9DWV",
    "pycharm": {
     "is_executing": false
    }
   },
   "outputs": [],
   "source": [
    "# Load MNIST data (with handwritten numbers = first task)\n",
    "mnist_train = datasets.MNIST(\"../data\", train=True, download=True, transform=transforms.ToTensor())\n",
    "mnist_test = datasets.MNIST(\"../data\", train=False, download=True, transform=transforms.ToTensor())\n",
    "train_loader = DataLoader(mnist_train, batch_size=100, shuffle=True)\n",
    "test_loader = DataLoader(mnist_test, batch_size=100, shuffle=False)"
   ]
  },
  {
   "cell_type": "code",
   "execution_count": 3,
   "metadata": {
    "colab": {},
    "colab_type": "code",
    "id": "NvJW68IB9DWw",
    "pycharm": {
     "is_executing": false
    }
   },
   "outputs": [],
   "source": [
    "# Load Fashion MNIST data (with fashion items = second task)\n",
    "f_mnist_train = datasets.FashionMNIST(\"../data\", train=True, download=True, transform=transforms.ToTensor())\n",
    "f_mnist_test = datasets.FashionMNIST(\"../data\", train=False, download=True, transform=transforms.ToTensor())\n",
    "f_train_loader = DataLoader(f_mnist_train, batch_size=100, shuffle=True)\n",
    "f_test_loader = DataLoader(f_mnist_test, batch_size=100, shuffle=False)"
   ]
  },
  {
   "cell_type": "code",
   "execution_count": 4,
   "metadata": {
    "colab": {},
    "colab_type": "code",
    "id": "44d9meQa9DWc",
    "pycharm": {
     "is_executing": false
    }
   },
   "outputs": [],
   "source": [
    "# Define network architecture\n",
    "class LinearLayer(nn.Module):\n",
    "    def __init__(self, input_dim, output_dim, act='relu', use_bn=False):\n",
    "        super(LinearLayer, self).__init__()\n",
    "        self.lin = nn.Linear(input_dim, output_dim, bias=not use_bn)\n",
    "        self.act = nn.ReLU() if act == 'relu' else act\n",
    "        if use_bn:\n",
    "            self.bn = nn.BatchNorm1d(output_dim, track_running_stats=False)\n",
    "        else:\n",
    "            self.bn = None\n",
    "    \n",
    "    def forward(self, x):\n",
    "        y = self.lin(x)\n",
    "        if self.bn is not None:\n",
    "            y = self.bn(y)\n",
    "        return self.act(y)\n",
    "\n",
    "class Flatten(nn.Module):\n",
    "    def forward(self, x):\n",
    "        return x.view(x.shape[0], -1)\n",
    "\n",
    "class BaseModel(nn.Module):\n",
    "    def __init__(self, num_inputs, num_hidden, num_outputs):\n",
    "        super(BaseModel, self).__init__()\n",
    "        self.f1 = Flatten()\n",
    "        self.lin1 = LinearLayer(num_inputs, num_hidden, use_bn=True)\n",
    "        self.lin2 = LinearLayer(num_hidden, num_hidden, use_bn=True)\n",
    "        self.lin3 = nn.Linear(num_hidden, num_outputs)\n",
    "        \n",
    "    def forward(self, x):\n",
    "        return self.lin3(self.lin2(self.lin1(self.f1(x))))"
   ]
  },
  {
   "cell_type": "code",
   "execution_count": 5,
   "metadata": {
    "colab": {},
    "colab_type": "code",
    "id": "_17XW9359DWf",
    "pycharm": {
     "is_executing": false
    }
   },
   "outputs": [],
   "source": [
    "crit = nn.CrossEntropyLoss()\n",
    "ewc = ElasticWeightConsolidation(BaseModel(28 * 28, 100, 2 * 10), crit=crit, lr=1e-4, weight=10000)"
   ]
  },
  {
   "cell_type": "code",
   "execution_count": 6,
   "metadata": {
    "pycharm": {
     "is_executing": false,
     "name": "#%%\n"
    }
   },
   "outputs": [],
   "source": [
    "def accu(model, dataloader, target_offset=0):\n",
    "    \"\"\"Compute classification accuracy\"\"\"\n",
    "    model = model.eval()\n",
    "    acc = 0\n",
    "    for input, target in dataloader:\n",
    "        o = model(input.to('cuda')).cpu()\n",
    "        acc += (o.argmax(dim=1).long() == target + target_offset).float().mean()\n",
    "    return float(acc / len(dataloader))"
   ]
  },
  {
   "cell_type": "code",
   "execution_count": 7,
   "metadata": {
    "colab": {
     "base_uri": "https://localhost:8080/",
     "height": 87
    },
    "colab_type": "code",
    "id": "gmbrFvJm9DWn",
    "outputId": "db2ca466-76dc-4d1c-fa32-8dc672a12a8f",
    "pycharm": {
     "is_executing": false
    }
   },
   "outputs": [
    {
     "name": "stderr",
     "output_type": "stream",
     "text": [
      "Epoch 1: 100%|██████████| 600/600 [00:08<00:00, 74.33it/s]\n",
      "Epoch 2: 100%|██████████| 600/600 [00:08<00:00, 69.65it/s]\n",
      "Epoch 3: 100%|██████████| 600/600 [00:07<00:00, 75.65it/s]\n",
      "Epoch 4: 100%|██████████| 600/600 [00:07<00:00, 76.12it/s]\n",
      "Epoch 5: 100%|██████████| 600/600 [00:09<00:00, 66.07it/s]\n",
      "Epoch 6: 100%|██████████| 600/600 [00:08<00:00, 71.01it/s]\n",
      "Epoch 7: 100%|██████████| 600/600 [00:07<00:00, 77.09it/s]\n",
      "Epoch 8: 100%|██████████| 600/600 [00:08<00:00, 69.83it/s]\n",
      "Epoch 9: 100%|██████████| 600/600 [00:08<00:00, 68.24it/s]\n",
      "Epoch 10: 100%|██████████| 600/600 [00:09<00:00, 63.34it/s]\n",
      "Epoch 11: 100%|██████████| 600/600 [00:09<00:00, 62.12it/s]\n",
      "Epoch 12: 100%|██████████| 600/600 [00:08<00:00, 67.30it/s]\n",
      "Epoch 13: 100%|██████████| 600/600 [00:09<00:00, 65.31it/s]\n",
      "Epoch 14: 100%|██████████| 600/600 [00:12<00:00, 46.16it/s]\n",
      "Epoch 15: 100%|██████████| 600/600 [00:10<00:00, 56.36it/s]\n",
      "Epoch 16: 100%|██████████| 600/600 [00:09<00:00, 65.37it/s]\n",
      "Epoch 17: 100%|██████████| 600/600 [00:08<00:00, 74.43it/s]\n",
      "Epoch 18: 100%|██████████| 600/600 [00:07<00:00, 78.79it/s]\n",
      "Epoch 19: 100%|██████████| 600/600 [00:07<00:00, 75.14it/s]\n",
      "Epoch 20: 100%|██████████| 600/600 [00:08<00:00, 73.58it/s]\n",
      "Epoch 21: 100%|██████████| 600/600 [00:08<00:00, 72.95it/s]\n",
      "Epoch 22: 100%|██████████| 600/600 [00:08<00:00, 67.25it/s]\n",
      "Epoch 23: 100%|██████████| 600/600 [00:09<00:00, 66.61it/s]\n",
      "Epoch 24: 100%|██████████| 600/600 [00:08<00:00, 72.39it/s]\n",
      "Epoch 25: 100%|██████████| 600/600 [00:08<00:00, 71.88it/s]\n"
     ]
    }
   ],
   "source": [
    "# Train network with 20 output nodes on 10 class problem (task #1), using first 10 output nodes\n",
    "accuracies = [accu(ewc.model, test_loader)]\n",
    "f_accuracies = [accu(ewc.model, f_test_loader, target_offset=10)]\n",
    "\n",
    "for epoch in range(30):\n",
    "    for input, target in tqdm(train_loader, desc=f'Epoch {epoch + 1}'):\n",
    "        ewc.forward_backward_update(input, target)\n",
    "    \n",
    "    accuracies.append(accu(ewc.model, test_loader))\n",
    "    f_accuracies.append(accu(ewc.model, f_test_loader, target_offset=10))"
   ]
  },
  {
   "cell_type": "code",
   "execution_count": 8,
   "metadata": {
    "colab": {},
    "colab_type": "code",
    "id": "8HwlRJkI9DWt",
    "pycharm": {
     "is_executing": false
    }
   },
   "outputs": [],
   "source": [
    "# Compute parameter variance\n",
    "ewc.register_ewc_params(mnist_train, 100, 300)"
   ]
  },
  {
   "cell_type": "code",
   "execution_count": 9,
   "metadata": {
    "pycharm": {
     "is_executing": false,
     "name": "#%%\n"
    }
   },
   "outputs": [
    {
     "name": "stdout",
     "output_type": "stream",
     "text": [
      "Accuracy for task #1 after training for task #1: 0.88290\n"
     ]
    }
   ],
   "source": [
    "print('Accuracy for task #1 after training for task #1: {:.5f}'.format(\n",
    "    accu(ewc.model, test_loader)\n",
    "))"
   ]
  },
  {
   "cell_type": "code",
   "execution_count": null,
   "metadata": {
    "colab": {
     "base_uri": "https://localhost:8080/",
     "height": 87
    },
    "colab_type": "code",
    "id": "SzQbVudz9DWy",
    "outputId": "bdcb55c5-d40a-4a7a-dca5-4652076e8033",
    "pycharm": {
     "is_executing": false
    }
   },
   "outputs": [
    {
     "name": "stderr",
     "output_type": "stream",
     "text": [
      "Epoch 1: 100%|██████████| 600/600 [00:11<00:00, 52.31it/s]\n",
      "Epoch 2: 100%|██████████| 600/600 [00:11<00:00, 50.63it/s]\n",
      "Epoch 3: 100%|██████████| 600/600 [00:10<00:00, 55.77it/s]\n",
      "Epoch 4: 100%|██████████| 600/600 [00:10<00:00, 54.76it/s]\n",
      "Epoch 5: 100%|██████████| 600/600 [00:11<00:00, 52.65it/s]\n",
      "Epoch 6: 100%|██████████| 600/600 [00:10<00:00, 56.07it/s]\n",
      "Epoch 7: 100%|██████████| 600/600 [00:10<00:00, 56.05it/s]\n",
      "Epoch 8: 100%|██████████| 600/600 [00:11<00:00, 54.53it/s]\n",
      "Epoch 9: 100%|██████████| 600/600 [00:10<00:00, 56.08it/s]\n",
      "Epoch 10: 100%|██████████| 600/600 [00:10<00:00, 56.24it/s]\n",
      "Epoch 11: 100%|██████████| 600/600 [00:10<00:00, 56.25it/s]\n",
      "Epoch 12: 100%|██████████| 600/600 [00:10<00:00, 56.14it/s]\n",
      "Epoch 13: 100%|██████████| 600/600 [00:10<00:00, 56.11it/s]\n",
      "Epoch 14: 100%|██████████| 600/600 [00:10<00:00, 56.16it/s]\n",
      "Epoch 15: 100%|██████████| 600/600 [00:10<00:00, 56.20it/s]\n",
      "Epoch 16: 100%|██████████| 600/600 [00:10<00:00, 55.84it/s]\n",
      "Epoch 17: 100%|██████████| 600/600 [00:10<00:00, 56.09it/s]\n",
      "Epoch 18: 100%|██████████| 600/600 [00:10<00:00, 55.94it/s]\n",
      "Epoch 19: 100%|██████████| 600/600 [00:10<00:00, 56.07it/s]\n",
      "Epoch 20: 100%|██████████| 600/600 [00:10<00:00, 55.96it/s]\n",
      "Epoch 21: 100%|██████████| 600/600 [00:10<00:00, 55.23it/s]\n",
      "Epoch 22: 100%|██████████| 600/600 [00:10<00:00, 55.61it/s]\n",
      "Epoch 23: 100%|██████████| 600/600 [00:10<00:00, 55.68it/s]\n",
      "Epoch 24:  21%|██        | 124/600 [00:02<00:08, 56.47it/s]"
     ]
    }
   ],
   "source": [
    "# Train on another 10 class problem, now using output nodes 11-20\n",
    "for epoch in range(60):\n",
    "    for input, target in tqdm(f_train_loader, desc=f'Epoch {epoch + 1}'):\n",
    "        ewc.forward_backward_update(input, target + 10)\n",
    "    \n",
    "    accuracies.append(accu(ewc.model, test_loader))\n",
    "    f_accuracies.append(accu(ewc.model, f_test_loader, target_offset=10))"
   ]
  },
  {
   "cell_type": "code",
   "execution_count": 11,
   "metadata": {},
   "outputs": [
    {
     "data": {
      "image/png": "[encoded data removed]",
      "text/plain": [
       "<Figure size 432x288 with 1 Axes>"
      ]
     },
     "metadata": {
      "needs_background": "light"
     },
     "output_type": "display_data"
    }
   ],
   "source": [
    "# Plot accuracy over time\n",
    "plt.figure()\n",
    "plt.plot(accuracies, color='r')\n",
    "plt.plot(f_accuracies, color='b')\n",
    "plt.show()"
   ]
  },
  {
   "cell_type": "code",
   "execution_count": 12,
   "metadata": {
    "colab": {
     "base_uri": "https://localhost:8080/",
     "height": 35
    },
    "colab_type": "code",
    "id": "aOIOBZhp9DW6",
    "outputId": "b260dee2-3c7d-4a9f-be83-8ac412a32f5c",
    "pycharm": {
     "is_executing": false
    }
   },
   "outputs": [
    {
     "name": "stdout",
     "output_type": "stream",
     "text": [
      "Accuracy for task #2 after training for task #2: 0.76090\n"
     ]
    }
   ],
   "source": [
    "print('Accuracy for task #2 after training for task #2: {:.5f}'.format(\n",
    "    accu(ewc.model, f_test_loader, target_offset=10)\n",
    "))"
   ]
  },
  {
   "cell_type": "code",
   "execution_count": 13,
   "metadata": {
    "colab": {
     "base_uri": "https://localhost:8080/",
     "height": 35
    },
    "colab_type": "code",
    "id": "hFdW_33Y9DW-",
    "outputId": "38b2dad0-bfb4-48e5-ec01-d848cc8c1593",
    "pycharm": {
     "is_executing": false
    }
   },
   "outputs": [
    {
     "name": "stdout",
     "output_type": "stream",
     "text": [
      "Accuracy for task #1 after training for task #2: 0.74420\n"
     ]
    }
   ],
   "source": [
    "print('Accuracy for task #1 after training for task #2: {:.5f}'.format(\n",
    "    accu(ewc.model, test_loader)\n",
    "))"
   ]
  }
 ],
 "metadata": {
  "colab": {
   "name": "Untitled1.ipynb",
   "provenance": [],
   "version": "0.3.2"
  },
  "kernelspec": {
   "display_name": "Python 3",
   "language": "python",
   "name": "python3"
  },
  "language_info": {
   "codemirror_mode": {
    "name": "ipython",
    "version": 3
   },
   "file_extension": ".py",
   "mimetype": "text/x-python",
   "name": "python",
   "nbconvert_exporter": "python",
   "pygments_lexer": "ipython3",
   "version": "3.7.3"
  },
  "pycharm": {
   "stem_cell": {
    "cell_type": "raw",
    "metadata": {
     "collapsed": false
    },
    "source": []
   }
  }
 },
 "nbformat": 4,
 "nbformat_minor": 1
}
