{
 "cells": [
  {
   "cell_type": "code",
   "execution_count": 1,
   "metadata": {
    "colab": {},
    "colab_type": "code",
    "id": "qe22sCzx9DWQ",
    "pycharm": {
     "is_executing": false
    }
   },
   "outputs": [],
   "source": [
    "%matplotlib inline\n",
    "\n",
    "import torch\n",
    "import torch.nn as nn\n",
    "\n",
    "from tqdm import tqdm\n",
    "from matplotlib import pyplot as plt\n",
    "from torch.utils.data import Dataset, DataLoader\n",
    "from torchvision import datasets, transforms\n",
    "\n",
    "from elastic_weight_consolidation import ElasticWeightConsolidation"
   ]
  },
  {
   "cell_type": "code",
   "execution_count": 2,
   "metadata": {
    "colab": {},
    "colab_type": "code",
    "id": "Y_LMkmXG9DWV",
    "pycharm": {
     "is_executing": false
    }
   },
   "outputs": [],
   "source": [
    "# Load MNIST data (with handwritten numbers = first task)\n",
    "mnist_train = datasets.MNIST(\"../data\", train=True, download=True, transform=transforms.ToTensor())\n",
    "mnist_test = datasets.MNIST(\"../data\", train=False, download=True, transform=transforms.ToTensor())\n",
    "train_loader = DataLoader(mnist_train, batch_size=100, shuffle=True)\n",
    "test_loader = DataLoader(mnist_test, batch_size=100, shuffle=False)"
   ]
  },
  {
   "cell_type": "code",
   "execution_count": 3,
   "metadata": {
    "colab": {},
    "colab_type": "code",
    "id": "NvJW68IB9DWw",
    "pycharm": {
     "is_executing": false
    }
   },
   "outputs": [],
   "source": [
    "# Load Fashion MNIST data (with fashion items = second task)\n",
    "f_mnist_train = datasets.FashionMNIST(\"../data\", train=True, download=True, transform=transforms.ToTensor())\n",
    "f_mnist_test = datasets.FashionMNIST(\"../data\", train=False, download=True, transform=transforms.ToTensor())\n",
    "f_train_loader = DataLoader(f_mnist_train, batch_size=100, shuffle=True)\n",
    "f_test_loader = DataLoader(f_mnist_test, batch_size=100, shuffle=False)"
   ]
  },
  {
   "cell_type": "code",
   "execution_count": 4,
   "metadata": {
    "colab": {},
    "colab_type": "code",
    "id": "44d9meQa9DWc",
    "pycharm": {
     "is_executing": false
    }
   },
   "outputs": [],
   "source": [
    "# Define network architecture\n",
    "class LinearLayer(nn.Module):\n",
    "    def __init__(self, input_dim, output_dim, act='relu', use_bn=False):\n",
    "        super(LinearLayer, self).__init__()\n",
    "        self.lin = nn.Linear(input_dim, output_dim, bias=not use_bn)\n",
    "        self.act = nn.ReLU() if act == 'relu' else act\n",
    "        if use_bn:\n",
    "            self.bn = nn.BatchNorm1d(output_dim, track_running_stats=False)\n",
    "        else:\n",
    "            self.bn = None\n",
    "    \n",
    "    def forward(self, x):\n",
    "        y = self.lin(x)\n",
    "        if self.bn is not None:\n",
    "            y = self.bn(y)\n",
    "        return self.act(y)\n",
    "\n",
    "class Flatten(nn.Module):\n",
    "    def forward(self, x):\n",
    "        return x.view(x.shape[0], -1)\n",
    "\n",
    "class BaseModel(nn.Module):\n",
    "    def __init__(self, num_inputs, num_hidden, num_outputs):\n",
    "        super(BaseModel, self).__init__()\n",
    "        self.f1 = Flatten()\n",
    "        self.lin1 = LinearLayer(num_inputs, num_hidden, use_bn=True)\n",
    "        self.lin2 = LinearLayer(num_hidden, num_hidden, use_bn=True)\n",
    "        self.lin3 = nn.Linear(num_hidden, num_outputs)\n",
    "        \n",
    "    def forward(self, x):\n",
    "        return self.lin3(self.lin2(self.lin1(self.f1(x))))"
   ]
  },
  {
   "cell_type": "code",
   "execution_count": 5,
   "metadata": {
    "colab": {},
    "colab_type": "code",
    "id": "_17XW9359DWf",
    "pycharm": {
     "is_executing": false
    }
   },
   "outputs": [],
   "source": [
    "ewc = ElasticWeightConsolidation(BaseModel(28 * 28, 100, 2 * 10), weight=100000)"
   ]
  },
  {
   "cell_type": "code",
   "execution_count": 6,
   "metadata": {
    "colab": {
     "base_uri": "https://localhost:8080/",
     "height": 87
    },
    "colab_type": "code",
    "id": "gmbrFvJm9DWn",
    "outputId": "db2ca466-76dc-4d1c-fa32-8dc672a12a8f",
    "pycharm": {
     "is_executing": true
    }
   },
   "outputs": [
    {
     "name": "stderr",
     "output_type": "stream",
     "text": [
      "Epoch 1: 100%|██████████| 600/600 [00:10<00:00, 56.91it/s]\n",
      "Epoch 2: 100%|██████████| 600/600 [00:09<00:00, 64.57it/s]\n",
      "Epoch 3: 100%|██████████| 600/600 [00:09<00:00, 65.46it/s]\n",
      "Epoch 4: 100%|██████████| 600/600 [00:09<00:00, 66.45it/s]\n",
      "Epoch 5: 100%|██████████| 600/600 [00:09<00:00, 64.81it/s]\n",
      "Epoch 6: 100%|██████████| 600/600 [00:09<00:00, 65.43it/s]\n",
      "Epoch 7: 100%|██████████| 600/600 [00:08<00:00, 69.03it/s]\n",
      "Epoch 8: 100%|██████████| 600/600 [00:08<00:00, 74.92it/s]\n",
      "Epoch 9: 100%|██████████| 600/600 [00:08<00:00, 73.84it/s]\n",
      "Epoch 10: 100%|██████████| 600/600 [00:07<00:00, 75.29it/s]\n",
      "Epoch 11: 100%|██████████| 600/600 [00:07<00:00, 75.12it/s]\n",
      "Epoch 12: 100%|██████████| 600/600 [00:07<00:00, 75.38it/s]\n",
      "Epoch 13: 100%|██████████| 600/600 [00:08<00:00, 74.28it/s]\n",
      "Epoch 14: 100%|██████████| 600/600 [00:07<00:00, 75.10it/s]\n",
      "Epoch 15: 100%|██████████| 600/600 [00:08<00:00, 74.58it/s]\n",
      "Epoch 16: 100%|██████████| 600/600 [00:07<00:00, 75.23it/s]\n",
      "Epoch 17: 100%|██████████| 600/600 [00:08<00:00, 74.86it/s]\n",
      "Epoch 18: 100%|██████████| 600/600 [00:08<00:00, 73.62it/s]\n",
      "Epoch 19: 100%|██████████| 600/600 [00:08<00:00, 73.20it/s]\n",
      "Epoch 20: 100%|██████████| 600/600 [00:09<00:00, 62.41it/s]\n",
      "Epoch 21: 100%|██████████| 600/600 [00:07<00:00, 75.05it/s]\n",
      "Epoch 22: 100%|██████████| 600/600 [00:08<00:00, 74.16it/s]\n",
      "Epoch 23: 100%|██████████| 600/600 [00:08<00:00, 74.43it/s]\n",
      "Epoch 24: 100%|██████████| 600/600 [00:08<00:00, 74.59it/s]\n",
      "Epoch 25: 100%|██████████| 600/600 [00:08<00:00, 74.15it/s]\n",
      "Epoch 26: 100%|██████████| 600/600 [00:08<00:00, 74.76it/s]\n",
      "Epoch 27: 100%|██████████| 600/600 [00:08<00:00, 74.88it/s]\n",
      "Epoch 28: 100%|██████████| 600/600 [00:08<00:00, 74.65it/s]\n",
      "Epoch 29: 100%|██████████| 600/600 [00:08<00:00, 74.80it/s]\n",
      "Epoch 30: 100%|██████████| 600/600 [00:08<00:00, 74.06it/s]\n"
     ]
    }
   ],
   "source": [
    "# Train network with 20 output nodes on 10 class problem (task #1), using first 10 output nodes\n",
    "ewc.train(train_loader, [test_loader, f_test_loader], epochs=30, task=1)"
   ]
  },
  {
   "cell_type": "code",
   "execution_count": 7,
   "metadata": {
    "colab": {},
    "colab_type": "code",
    "id": "8HwlRJkI9DWt",
    "pycharm": {
     "is_executing": true
    }
   },
   "outputs": [
    {
     "name": "stderr",
     "output_type": "stream",
     "text": [
      "Mean: 8it [00:00, 2001.22it/s]\n",
      "Variance: 294it [00:03, 90.05it/s]\n"
     ]
    }
   ],
   "source": [
    "# Compute parameter variance\n",
    "ewc.register_ewc_params(mnist_train, 100, 300)"
   ]
  },
  {
   "cell_type": "code",
   "execution_count": 8,
   "metadata": {
    "pycharm": {
     "is_executing": true,
     "name": "#%%\n"
    }
   },
   "outputs": [
    {
     "name": "stdout",
     "output_type": "stream",
     "text": [
      "Accuracy for task #1 after training for task #1: 0.88920\n"
     ]
    }
   ],
   "source": [
    "print('Accuracy for task #1 after training for task #1: {:.5f}'.format(ewc.accuracy(test_loader, task=1)))"
   ]
  },
  {
   "cell_type": "code",
   "execution_count": 9,
   "metadata": {
    "colab": {
     "base_uri": "https://localhost:8080/",
     "height": 87
    },
    "colab_type": "code",
    "id": "SzQbVudz9DWy",
    "outputId": "bdcb55c5-d40a-4a7a-dca5-4652076e8033",
    "pycharm": {
     "is_executing": true
    }
   },
   "outputs": [
    {
     "name": "stderr",
     "output_type": "stream",
     "text": [
      "Epoch 1: 100%|██████████| 600/600 [00:11<00:00, 51.89it/s]\n",
      "Epoch 2: 100%|██████████| 600/600 [00:10<00:00, 55.34it/s]\n",
      "Epoch 3: 100%|██████████| 600/600 [00:10<00:00, 56.72it/s]\n",
      "Epoch 4: 100%|██████████| 600/600 [00:10<00:00, 56.81it/s]\n",
      "Epoch 5: 100%|██████████| 600/600 [00:10<00:00, 56.50it/s]\n",
      "Epoch 6: 100%|██████████| 600/600 [00:10<00:00, 56.63it/s]\n",
      "Epoch 7: 100%|██████████| 600/600 [00:10<00:00, 56.74it/s]\n",
      "Epoch 8: 100%|██████████| 600/600 [00:10<00:00, 56.47it/s]\n",
      "Epoch 9: 100%|██████████| 600/600 [00:10<00:00, 56.65it/s]\n",
      "Epoch 10: 100%|██████████| 600/600 [00:10<00:00, 56.50it/s]\n",
      "Epoch 11: 100%|██████████| 600/600 [00:10<00:00, 56.51it/s]\n",
      "Epoch 12: 100%|██████████| 600/600 [00:10<00:00, 56.41it/s]\n",
      "Epoch 13: 100%|██████████| 600/600 [00:10<00:00, 56.49it/s]\n",
      "Epoch 14: 100%|██████████| 600/600 [00:12<00:00, 48.93it/s]\n",
      "Epoch 15: 100%|██████████| 600/600 [00:10<00:00, 55.89it/s]\n",
      "Epoch 16: 100%|██████████| 600/600 [00:10<00:00, 56.18it/s]\n",
      "Epoch 17: 100%|██████████| 600/600 [00:11<00:00, 53.79it/s]\n",
      "Epoch 18: 100%|██████████| 600/600 [00:13<00:00, 44.54it/s]\n",
      "Epoch 19: 100%|██████████| 600/600 [00:11<00:00, 52.66it/s]\n",
      "Epoch 20: 100%|██████████| 600/600 [00:10<00:00, 54.72it/s]\n",
      "Epoch 21: 100%|██████████| 600/600 [00:10<00:00, 54.80it/s]\n",
      "Epoch 22: 100%|██████████| 600/600 [00:11<00:00, 51.00it/s]\n",
      "Epoch 23: 100%|██████████| 600/600 [00:18<00:00, 31.58it/s]\n",
      "Epoch 24: 100%|██████████| 600/600 [00:10<00:00, 55.07it/s]\n",
      "Epoch 25: 100%|██████████| 600/600 [00:11<00:00, 53.30it/s]\n",
      "Epoch 26: 100%|██████████| 600/600 [00:10<00:00, 55.95it/s]\n",
      "Epoch 27: 100%|██████████| 600/600 [00:11<00:00, 54.40it/s]\n",
      "Epoch 28: 100%|██████████| 600/600 [00:11<00:00, 52.22it/s]\n",
      "Epoch 29: 100%|██████████| 600/600 [00:14<00:00, 40.74it/s]\n",
      "Epoch 30: 100%|██████████| 600/600 [00:13<00:00, 44.12it/s]\n",
      "Epoch 31: 100%|██████████| 600/600 [00:11<00:00, 53.92it/s]\n",
      "Epoch 32: 100%|██████████| 600/600 [00:14<00:00, 42.67it/s]\n",
      "Epoch 33: 100%|██████████| 600/600 [00:11<00:00, 51.59it/s]\n",
      "Epoch 34: 100%|██████████| 600/600 [00:11<00:00, 51.83it/s]\n",
      "Epoch 35: 100%|██████████| 600/600 [00:14<00:00, 41.91it/s]\n",
      "Epoch 36: 100%|██████████| 600/600 [00:12<00:00, 48.70it/s]\n",
      "Epoch 37: 100%|██████████| 600/600 [00:10<00:00, 55.43it/s]\n",
      "Epoch 38: 100%|██████████| 600/600 [00:11<00:00, 53.05it/s]\n",
      "Epoch 39: 100%|██████████| 600/600 [00:12<00:00, 46.32it/s]\n",
      "Epoch 40: 100%|██████████| 600/600 [00:11<00:00, 50.50it/s]\n",
      "Epoch 41: 100%|██████████| 600/600 [00:10<00:00, 57.58it/s]\n",
      "Epoch 42: 100%|██████████| 600/600 [00:12<00:00, 48.75it/s]\n",
      "Epoch 43: 100%|██████████| 600/600 [00:11<00:00, 52.42it/s]\n",
      "Epoch 44: 100%|██████████| 600/600 [00:10<00:00, 57.86it/s]\n",
      "Epoch 45: 100%|██████████| 600/600 [00:10<00:00, 56.18it/s]\n",
      "Epoch 46: 100%|██████████| 600/600 [00:11<00:00, 51.51it/s]\n",
      "Epoch 47: 100%|██████████| 600/600 [00:11<00:00, 53.94it/s]\n",
      "Epoch 48: 100%|██████████| 600/600 [00:11<00:00, 54.54it/s]\n",
      "Epoch 49: 100%|██████████| 600/600 [00:11<00:00, 53.47it/s]\n",
      "Epoch 50: 100%|██████████| 600/600 [00:10<00:00, 55.76it/s]\n",
      "Epoch 51: 100%|██████████| 600/600 [00:13<00:00, 46.10it/s]\n",
      "Epoch 52: 100%|██████████| 600/600 [00:11<00:00, 52.73it/s]\n",
      "Epoch 53: 100%|██████████| 600/600 [00:10<00:00, 56.76it/s]\n",
      "Epoch 54: 100%|██████████| 600/600 [00:10<00:00, 55.90it/s]\n",
      "Epoch 55: 100%|██████████| 600/600 [00:11<00:00, 50.77it/s]\n",
      "Epoch 56: 100%|██████████| 600/600 [00:10<00:00, 55.32it/s]\n",
      "Epoch 57: 100%|██████████| 600/600 [00:14<00:00, 42.80it/s]\n",
      "Epoch 58: 100%|██████████| 600/600 [00:11<00:00, 52.26it/s]\n",
      "Epoch 59: 100%|██████████| 600/600 [00:10<00:00, 55.48it/s]\n",
      "Epoch 60: 100%|██████████| 600/600 [00:10<00:00, 55.96it/s]\n"
     ]
    }
   ],
   "source": [
    "# Train on another 10 class problem, now using output nodes 11-20\n",
    "ewc.train(f_train_loader, [test_loader, f_test_loader], epochs=60, task=2)"
   ]
  },
  {
   "cell_type": "code",
   "execution_count": 10,
   "metadata": {
    "pycharm": {
     "is_executing": true
    }
   },
   "outputs": [
    {
     "data": {
      "image/png": "[encoded data removed]",
      "text/plain": [
       "<Figure size 432x288 with 1 Axes>"
      ]
     },
     "metadata": {
      "needs_background": "light"
     },
     "output_type": "display_data"
    }
   ],
   "source": [
    "# Plot accuracy over time\n",
    "plt.figure()\n",
    "plt.plot(ewc.accuracies['task1'], color='r')\n",
    "plt.plot(ewc.accuracies['task2'], color='b')\n",
    "plt.show()"
   ]
  },
  {
   "cell_type": "code",
   "execution_count": 11,
   "metadata": {
    "colab": {
     "base_uri": "https://localhost:8080/",
     "height": 35
    },
    "colab_type": "code",
    "id": "aOIOBZhp9DW6",
    "outputId": "b260dee2-3c7d-4a9f-be83-8ac412a32f5c",
    "pycharm": {
     "is_executing": true
    }
   },
   "outputs": [
    {
     "name": "stdout",
     "output_type": "stream",
     "text": [
      "Accuracy for task #1 after training for task #2: 0.86960\n",
      "Accuracy for task #2 after training for task #2: 0.76070\n"
     ]
    }
   ],
   "source": [
    "print('Accuracy for task #1 after training for task #2: {:.5f}'.format(ewc.accuracies['task1'][-1]))\n",
    "print('Accuracy for task #2 after training for task #2: {:.5f}'.format(ewc.accuracies['task2'][-1]))"
   ]
  },
  {
   "cell_type": "code",
   "execution_count": 12,
   "metadata": {},
   "outputs": [
    {
     "name": "stderr",
     "output_type": "stream",
     "text": [
      "Epoch 1: 100%|██████████| 600/600 [00:07<00:00, 76.59it/s]\n",
      "Epoch 2: 100%|██████████| 600/600 [00:08<00:00, 74.00it/s]\n",
      "Epoch 3: 100%|██████████| 600/600 [00:08<00:00, 70.92it/s]\n",
      "Epoch 4: 100%|██████████| 600/600 [00:07<00:00, 76.34it/s]\n",
      "Epoch 5: 100%|██████████| 600/600 [00:07<00:00, 75.95it/s]\n",
      "Epoch 6: 100%|██████████| 600/600 [00:07<00:00, 75.90it/s]\n",
      "Epoch 7: 100%|██████████| 600/600 [00:07<00:00, 76.30it/s]\n",
      "Epoch 8: 100%|██████████| 600/600 [00:08<00:00, 67.95it/s]\n",
      "Epoch 9: 100%|██████████| 600/600 [00:08<00:00, 70.37it/s]\n",
      "Epoch 10: 100%|██████████| 600/600 [00:07<00:00, 76.41it/s]\n",
      "Epoch 11: 100%|██████████| 600/600 [00:08<00:00, 73.38it/s]\n",
      "Epoch 12: 100%|██████████| 600/600 [00:09<00:00, 66.58it/s]\n",
      "Epoch 13: 100%|██████████| 600/600 [00:13<00:00, 45.07it/s]\n",
      "Epoch 14: 100%|██████████| 600/600 [00:08<00:00, 70.23it/s]\n",
      "Epoch 15: 100%|██████████| 600/600 [00:08<00:00, 74.11it/s]\n",
      "Epoch 16: 100%|██████████| 600/600 [00:07<00:00, 75.21it/s]\n",
      "Epoch 17: 100%|██████████| 600/600 [00:09<00:00, 64.27it/s]\n",
      "Epoch 18: 100%|██████████| 600/600 [00:08<00:00, 72.61it/s]\n",
      "Epoch 19: 100%|██████████| 600/600 [00:08<00:00, 72.66it/s]\n",
      "Epoch 20: 100%|██████████| 600/600 [00:09<00:00, 64.94it/s]\n",
      "Epoch 21: 100%|██████████| 600/600 [00:08<00:00, 69.20it/s]\n",
      "Epoch 22: 100%|██████████| 600/600 [00:08<00:00, 74.61it/s]\n",
      "Epoch 23: 100%|██████████| 600/600 [00:07<00:00, 75.89it/s]\n",
      "Epoch 24: 100%|██████████| 600/600 [00:08<00:00, 74.75it/s]\n",
      "Epoch 25: 100%|██████████| 600/600 [00:08<00:00, 74.21it/s]\n",
      "Epoch 26: 100%|██████████| 600/600 [00:08<00:00, 74.75it/s]\n",
      "Epoch 27: 100%|██████████| 600/600 [00:08<00:00, 71.61it/s]\n",
      "Epoch 28: 100%|██████████| 600/600 [00:07<00:00, 75.81it/s]\n",
      "Epoch 29: 100%|██████████| 600/600 [00:08<00:00, 74.04it/s]\n",
      "Epoch 30: 100%|██████████| 600/600 [00:08<00:00, 73.58it/s]\n"
     ]
    },
    {
     "name": "stdout",
     "output_type": "stream",
     "text": [
      "Accuracy for task #1 after training for task #1: 0.88790\n"
     ]
    },
    {
     "name": "stderr",
     "output_type": "stream",
     "text": [
      "Epoch 1: 100%|██████████| 600/600 [00:08<00:00, 69.55it/s]\n",
      "Epoch 2: 100%|██████████| 600/600 [00:08<00:00, 67.41it/s]\n",
      "Epoch 3: 100%|██████████| 600/600 [00:09<00:00, 66.43it/s]\n",
      "Epoch 4: 100%|██████████| 600/600 [00:09<00:00, 62.45it/s]\n",
      "Epoch 5: 100%|██████████| 600/600 [00:07<00:00, 75.77it/s]\n",
      "Epoch 6: 100%|██████████| 600/600 [00:14<00:00, 42.19it/s]\n",
      "Epoch 7: 100%|██████████| 600/600 [00:09<00:00, 65.62it/s]\n",
      "Epoch 8: 100%|██████████| 600/600 [00:07<00:00, 76.09it/s]\n",
      "Epoch 9: 100%|██████████| 600/600 [00:08<00:00, 74.05it/s]\n",
      "Epoch 10: 100%|██████████| 600/600 [00:07<00:00, 75.46it/s]\n",
      "Epoch 11: 100%|██████████| 600/600 [00:08<00:00, 74.76it/s]\n",
      "Epoch 12: 100%|██████████| 600/600 [00:07<00:00, 75.51it/s]\n",
      "Epoch 13: 100%|██████████| 600/600 [00:10<00:00, 58.26it/s]\n",
      "Epoch 14: 100%|██████████| 600/600 [00:08<00:00, 66.73it/s]\n",
      "Epoch 15: 100%|██████████| 600/600 [00:08<00:00, 74.04it/s]\n",
      "Epoch 16: 100%|██████████| 600/600 [00:08<00:00, 67.60it/s]\n",
      "Epoch 17: 100%|██████████| 600/600 [00:13<00:00, 44.47it/s]\n",
      "Epoch 18: 100%|██████████| 600/600 [00:07<00:00, 75.06it/s]\n",
      "Epoch 19: 100%|██████████| 600/600 [00:08<00:00, 73.48it/s]\n",
      "Epoch 20: 100%|██████████| 600/600 [00:07<00:00, 78.14it/s]\n",
      "Epoch 21: 100%|██████████| 600/600 [00:07<00:00, 77.41it/s]\n",
      "Epoch 22: 100%|██████████| 600/600 [00:07<00:00, 77.69it/s]\n",
      "Epoch 23: 100%|██████████| 600/600 [00:07<00:00, 76.78it/s]\n",
      "Epoch 24: 100%|██████████| 600/600 [00:07<00:00, 76.88it/s]\n",
      "Epoch 25: 100%|██████████| 600/600 [00:07<00:00, 76.48it/s]\n",
      "Epoch 26: 100%|██████████| 600/600 [00:07<00:00, 77.70it/s]\n",
      "Epoch 27: 100%|██████████| 600/600 [00:07<00:00, 76.34it/s]\n",
      "Epoch 28: 100%|██████████| 600/600 [00:08<00:00, 72.47it/s]\n",
      "Epoch 29: 100%|██████████| 600/600 [00:08<00:00, 71.10it/s]\n",
      "Epoch 30: 100%|██████████| 600/600 [00:07<00:00, 75.18it/s]\n",
      "Epoch 31: 100%|██████████| 600/600 [00:07<00:00, 77.86it/s]\n",
      "Epoch 32: 100%|██████████| 600/600 [00:07<00:00, 77.55it/s]\n",
      "Epoch 33: 100%|██████████| 600/600 [00:08<00:00, 73.08it/s]\n",
      "Epoch 34: 100%|██████████| 600/600 [00:10<00:00, 59.20it/s]\n",
      "Epoch 35: 100%|██████████| 600/600 [00:08<00:00, 72.97it/s]\n",
      "Epoch 36: 100%|██████████| 600/600 [00:07<00:00, 77.21it/s]\n",
      "Epoch 37: 100%|██████████| 600/600 [00:07<00:00, 78.16it/s]\n",
      "Epoch 38: 100%|██████████| 600/600 [00:07<00:00, 77.42it/s]\n",
      "Epoch 39: 100%|██████████| 600/600 [00:07<00:00, 78.51it/s]\n",
      "Epoch 40: 100%|██████████| 600/600 [00:07<00:00, 75.46it/s]\n",
      "Epoch 41: 100%|██████████| 600/600 [00:07<00:00, 77.21it/s]\n",
      "Epoch 42: 100%|██████████| 600/600 [00:07<00:00, 77.86it/s]\n",
      "Epoch 43: 100%|██████████| 600/600 [00:07<00:00, 77.30it/s]\n",
      "Epoch 44: 100%|██████████| 600/600 [00:07<00:00, 77.71it/s]\n",
      "Epoch 45: 100%|██████████| 600/600 [00:08<00:00, 72.45it/s]\n",
      "Epoch 46: 100%|██████████| 600/600 [00:07<00:00, 77.10it/s]\n",
      "Epoch 47: 100%|██████████| 600/600 [00:07<00:00, 76.13it/s]\n",
      "Epoch 48: 100%|██████████| 600/600 [00:08<00:00, 70.95it/s]\n",
      "Epoch 49: 100%|██████████| 600/600 [00:08<00:00, 68.48it/s]\n",
      "Epoch 50: 100%|██████████| 600/600 [00:08<00:00, 67.56it/s]\n",
      "Epoch 51: 100%|██████████| 600/600 [00:07<00:00, 77.76it/s]\n",
      "Epoch 52: 100%|██████████| 600/600 [00:07<00:00, 77.05it/s]\n",
      "Epoch 53: 100%|██████████| 600/600 [00:07<00:00, 75.02it/s]\n",
      "Epoch 54: 100%|██████████| 600/600 [00:08<00:00, 68.52it/s]\n",
      "Epoch 55: 100%|██████████| 600/600 [00:12<00:00, 47.65it/s]\n",
      "Epoch 56: 100%|██████████| 600/600 [00:08<00:00, 70.88it/s]\n",
      "Epoch 57: 100%|██████████| 600/600 [00:09<00:00, 66.39it/s]\n",
      "Epoch 58: 100%|██████████| 600/600 [00:11<00:00, 53.30it/s]\n",
      "Epoch 59: 100%|██████████| 600/600 [00:09<00:00, 62.67it/s]\n",
      "Epoch 60: 100%|██████████| 600/600 [00:08<00:00, 74.07it/s]\n"
     ]
    },
    {
     "name": "stdout",
     "output_type": "stream",
     "text": [
      "Accuracy for task #1 after training for task #2: 0.33690\n",
      "Accuracy for task #2 after training for task #2: 0.80830\n"
     ]
    },
    {
     "data": {
      "image/png": "[encoded data removed]",
      "text/plain": [
       "<Figure size 432x288 with 1 Axes>"
      ]
     },
     "metadata": {
      "needs_background": "light"
     },
     "output_type": "display_data"
    }
   ],
   "source": [
    "# Redo the same training procedure, but do not use elastic weight consolidation\n",
    "no_ewc = ElasticWeightConsolidation(BaseModel(28 * 28, 100, 2 * 10), weight=0)\n",
    "no_ewc.train(train_loader, [test_loader, f_test_loader], epochs=30, task=1)\n",
    "print('Accuracy for task #1 after training for task #1: {:.5f}'.format(no_ewc.accuracy(test_loader, task=1)))\n",
    "no_ewc.train(f_train_loader, [test_loader, f_test_loader], epochs=60, task=2)\n",
    "print('Accuracy for task #1 after training for task #2: {:.5f}'.format(no_ewc.accuracies['task1'][-1]))\n",
    "print('Accuracy for task #2 after training for task #2: {:.5f}'.format(no_ewc.accuracies['task2'][-1]))\n",
    "\n",
    "plt.figure()\n",
    "plt.plot(no_ewc.accuracies['task1'], color='r')\n",
    "plt.plot(no_ewc.accuracies['task2'], color='b')\n",
    "plt.show()"
   ]
  }
 ],
 "metadata": {
  "colab": {
   "name": "Untitled1.ipynb",
   "provenance": [],
   "version": "0.3.2"
  },
  "kernelspec": {
   "display_name": "Python 3",
   "language": "python",
   "name": "python3"
  },
  "language_info": {
   "codemirror_mode": {
    "name": "ipython",
    "version": 3
   },
   "file_extension": ".py",
   "mimetype": "text/x-python",
   "name": "python",
   "nbconvert_exporter": "python",
   "pygments_lexer": "ipython3",
   "version": "3.7.3"
  },
  "pycharm": {
   "stem_cell": {
    "cell_type": "raw",
    "metadata": {
     "collapsed": false
    },
    "source": []
   }
  }
 },
 "nbformat": 4,
 "nbformat_minor": 1
}
